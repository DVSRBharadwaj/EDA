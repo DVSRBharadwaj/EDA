{
 "cells": [
  {
   "cell_type": "code",
   "execution_count": 1,
   "id": "08d4dd73-d3ea-453a-a015-27b75464c07d",
   "metadata": {},
   "outputs": [],
   "source": [
    "import pandas as pd\n",
    "import numpy as np\n",
    "import matplotlib.pyplot as plt"
   ]
  },
  {
   "cell_type": "code",
   "execution_count": null,
   "id": "364579f8-59d0-4ecf-a807-b4f1b7b2d667",
   "metadata": {},
   "outputs": [],
   "source": [
    "Step-1 : Read the file\n",
    "\n",
    "Step-2:  Data Quick checks\n",
    "        dtypes \n",
    "        columns \n",
    "        shape \n",
    "        size \n",
    "        info\n",
    "\n",
    "Step-3: Convert categorical columns & Numerical columns separately\n",
    "\n",
    "Step-4: You need to fill the missing values\n",
    "\n",
    "Step-5: Categorical data Analysis\n",
    "         unique \n",
    "         nunique \n",
    "         value_counts \n",
    "         barchart \n",
    "         count_plot  \n",
    "         pie_chart\n",
    "\n",
    "Step-6:Numerical data analysis\n",
    "    Describe function\n",
    "    Histogram Data skew ness\n",
    "\n",
    "Step-7: Box plot creation\n",
    "        Outlier analysis\n",
    "\n",
    "Step-8: Transformation methods\n",
    "\n",
    "Step-9: Encoding methods (np.where, LabelEncoder,One hot encoder, Map)\n",
    "\n",
    "Step-10: Scaling methods (Z,min-max scalar)"
   ]
  },
  {
   "cell_type": "code",
   "execution_count": null,
   "id": "4fa50009-598b-4373-bf55-5f5f2b796e7d",
   "metadata": {},
   "outputs": [],
   "source": [
    "Columns == Features == Variables\n",
    "Columns 2 types:\n",
    "    Input columns(Independent)\n",
    "    Output columns(Dependent,Target column)\n",
    "\n",
    "Rows == Fields == Instances == Tuples == Values"
   ]
  }
 ],
 "metadata": {
  "kernelspec": {
   "display_name": "Python 3 (ipykernel)",
   "language": "python",
   "name": "python3"
  },
  "language_info": {
   "codemirror_mode": {
    "name": "ipython",
    "version": 3
   },
   "file_extension": ".py",
   "mimetype": "text/x-python",
   "name": "python",
   "nbconvert_exporter": "python",
   "pygments_lexer": "ipython3",
   "version": "3.11.7"
  }
 },
 "nbformat": 4,
 "nbformat_minor": 5
}
